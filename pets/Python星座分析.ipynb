{
 "cells": [
  {
   "cell_type": "code",
   "execution_count": 25,
   "metadata": {},
   "outputs": [],
   "source": [
    "import requests\n",
    "import re"
   ]
  },
  {
   "cell_type": "markdown",
   "metadata": {},
   "source": [
    "#### 1.定义一个函数，输入你的出生日期，获取对应的星座"
   ]
  },
  {
   "cell_type": "code",
   "execution_count": 73,
   "metadata": {},
   "outputs": [
    {
     "name": "stdout",
     "output_type": "stream",
     "text": [
      "根据你的出生日期，判断你属于\"射手座\"\n"
     ]
    }
   ],
   "source": [
    "def get_constellation(month, date):\n",
    "    dates = (21, 20, 21, 21, 22, 22, 23, 24, 24, 24, 23, 22)\n",
    "    constellations = (\"摩羯座\", \"水瓶座\", \"双鱼座\", \"白羊座\", \n",
    "                      \"金牛座\", \"双子座\", \"巨蟹座\", \"狮子座\", \n",
    "                      \"处女座\", \"天秤座\", \"天蝎座\", \"射手座\", \"摩羯座\")\n",
    "    if date < dates[month-1]:\n",
    "        return constellations[month-1]\n",
    "    else:\n",
    "        return constellations[month]\n",
    "\n",
    "constellation = get_constellation(12, 12) \n",
    "print(f'根据你的出生日期，判断你属于\"{constellation}\"')"
   ]
  },
  {
   "cell_type": "markdown",
   "metadata": {},
   "source": [
    "#### 2. 定义一个字典，根据不同的星座，得到星座对应的英文，用于拼接url"
   ]
  },
  {
   "cell_type": "code",
   "execution_count": 51,
   "metadata": {},
   "outputs": [
    {
     "data": {
      "text/plain": [
       "'https://www.xzw.com/fortune/Cancer/'"
      ]
     },
     "execution_count": 51,
     "metadata": {},
     "output_type": "execute_result"
    }
   ],
   "source": [
    "dict_ = {\"水瓶座\":\"Aquarius\",\n",
    "         \"双鱼座\":\"Pisces\",\n",
    "         \"白羊座\":\"Aries\",\n",
    "         \"金牛座\":\"Taurus\",\n",
    "         \"双子座\":\"Gemini\",\n",
    "         \"巨蟹座\":\"Cancer\",\n",
    "         \"狮子座\":\"Leo\",\n",
    "         \"处女座\":\"Virgo\",\n",
    "         \"天秤座\":\"Libra\",\n",
    "         \"天蝎座\":\"Scorpio\",\n",
    "         \"射手座\":\"Sagittarius\",\n",
    "         \"摩羯座\":\"Capricorn\"}\n",
    "\n",
    "url = f\"https://www.xzw.com/fortune/{dict_[constellation]}/\"\n",
    "url"
   ]
  },
  {
   "cell_type": "markdown",
   "metadata": {},
   "source": [
    "#### 3.获取星座运势"
   ]
  },
  {
   "cell_type": "code",
   "execution_count": 52,
   "metadata": {},
   "outputs": [],
   "source": [
    "response = requests.get(url)\n",
    "response.encoding = \"utf-8\"\n",
    "content = response.text"
   ]
  },
  {
   "cell_type": "code",
   "execution_count": 64,
   "metadata": {},
   "outputs": [
    {
     "name": "stdout",
     "output_type": "stream",
     "text": [
      "下面是\"巨蟹座\"今日运势总览： \n",
      "\n",
      "综合运势: 3星 爱情运势: 3星 事业运势: 4星 健康运势: 4星 \n",
      "\n",
      "健康指数： 79% \n",
      "\n",
      "商谈指数： 80% \n",
      "\n",
      "幸运颜色： 墨绿色 \n",
      "\n",
      "幸运数字： 7 \n",
      "\n",
      "速配星座： 金牛座 \n",
      "\n",
      "短评： 注意力关注自己 \n",
      "\n",
      "---------------------------------\n",
      "你的【\"综合运势\"】详细说明： \n",
      "\n",
      "整体运势还不赖，相比起给别人眼色，你更应该将注意力放在自己身上。尤其是对竞争对手你应该努力追赶，做好分内事，而不是总是看着别人行动，或是冒出嫉妒心理。生活方面你需要适度的调整，不能让人牵着鼻子走。<small>星Z座Z屋</small>\n",
      "---------------------------------\n",
      "你的【\"爱情运势\"】详细说明： \n",
      "\n",
      "单身的或能遇到真心相待之人，不过培养感情还需加把劲。恋爱中的感情还需要升温，要积极表现，努力加点分了。\n",
      "---------------------------------\n",
      "你的【\"事业学业\"】详细说明： \n",
      "\n",
      "工作方面你能够充当领导者的角色，会有很多发挥自己领导才能的机会，简直就是用在刀刃上，容易得到更多人追随。\n",
      "---------------------------------\n",
      "你的【\"财富运势\"】详细说明： \n",
      "\n",
      "正财偏财的进账都非常理想，而且简直就是源源不断进账的节奏，你的进账收入涨幅比较大，手头可支配的资金宽裕。\n",
      "---------------------------------\n",
      "你的【\"健康运势\"】详细说明： \n",
      "\n",
      "早睡早起精神好，建议培养良好的作息习惯，有利于保证一天的精神状态，基本上没有病痛影响，也适合进行健康检查。\n"
     ]
    }
   ],
   "source": [
    "print(f'下面是\"{constellation}\"今日运势总览：',\"\\n\")\n",
    "lis = re.findall('<em style=\" width:(.*?)px;\">',content)\n",
    "comprehensive_fortune,love_fortune,career_fortune,wealth_fortune = [str(int(int(i)/16))+\"星\" for i in lis]\n",
    "\n",
    "health_index = re.findall('健康指数：</label>(.*?)<',content,re.S)[0]\n",
    "\n",
    "negotiation_Index = re.findall('商谈指数：</label>(.*?)<',content,re.S)[0]\n",
    "\n",
    "lucky_color = re.findall('幸运颜色：</label>(.*?)<',content,re.S)[0]\n",
    "\n",
    "lucky_num = re.findall('幸运数字：</label>(.*?)<',content,re.S)[0]\n",
    "\n",
    "match_constellation = re.findall('速配星座：</label>(.*?)<',content,re.S)[0]\n",
    "\n",
    "short_comment = re.findall('短评：</label>(.*?)<',content,re.S)[0]\n",
    "\n",
    "print(\"综合运势:\",comprehensive_fortune,\"爱情运势:\",love_fortune,\"事业运势:\",career_fortune,\"健康运势:\",wealth_fortune,\"\\n\")\n",
    "print(\"健康指数：\",health_index,\"\\n\")\n",
    "print(\"商谈指数：\",negotiation_Index,\"\\n\")\n",
    "print(\"幸运颜色：\",lucky_color,\"\\n\")\n",
    "print(\"幸运数字：\",lucky_num,\"\\n\")\n",
    "print(\"速配星座：\",match_constellation,\"\\n\")\n",
    "print(\"短评：\",short_comment,\"\\n\")\n",
    "print(\"---------------------------------\")\n",
    "\n",
    "print('你的【\"综合运势\"】详细说明：','\\n')\n",
    "detail_comprehensive_fortune = re.findall('综合运势</strong><span>(.*?)</span>',content,re.S)[0]\n",
    "print(detail_comprehensive_fortune)\n",
    "\n",
    "print(\"---------------------------------\")\n",
    "\n",
    "print('你的【\"爱情运势\"】详细说明：','\\n')\n",
    "detail_love_fortune = re.findall('爱情运势</strong><span>(.*?)</span>',content,re.S)[0]\n",
    "print(detail_love_fortune)\n",
    "\n",
    "print(\"---------------------------------\")\n",
    "\n",
    "print('你的【\"事业学业\"】详细说明：','\\n')\n",
    "detail_career = re.findall('事业学业</strong><span>(.*?)</span>',content,re.S)[0]\n",
    "print(detail_career)\n",
    "\n",
    "print(\"---------------------------------\")\n",
    "\n",
    "print('你的【\"财富运势\"】详细说明：','\\n')\n",
    "detail_wealth = re.findall('财富运势</strong><span>(.*?)</span>',content,re.S)[0]\n",
    "print(detail_wealth)\n",
    "\n",
    "print(\"---------------------------------\")\n",
    "\n",
    "print('你的【\"健康运势\"】详细说明：','\\n')\n",
    "detail_wealth_fortune = re.findall('健康运势</strong><span>(.*?)</span>',content,re.S)[0]\n",
    "print(detail_wealth_fortune)"
   ]
  },
  {
   "cell_type": "code",
   "execution_count": 71,
   "metadata": {},
   "outputs": [
    {
     "name": "stdout",
     "output_type": "stream",
     "text": [
      "请输入你的出生月份：7\n",
      "请输入你的出生日期：21\n",
      "\n",
      " 根据你的出生日期，判断你属于\"巨蟹座\" \n",
      "\n",
      "下面是\"巨蟹座\"今日运势总览： \n",
      "\n",
      "综合运势: 3星 爱情运势: 3星 事业运势: 4星 健康运势: 4星 \n",
      "\n",
      "健康指数： 79% \n",
      "\n",
      "商谈指数： 80% \n",
      "\n",
      "幸运颜色： 墨绿色 \n",
      "\n",
      "幸运数字： 7 \n",
      "\n",
      "速配星座： 金牛座 \n",
      "\n",
      "短评： 注意力关注自己 \n",
      "\n",
      "---------------------------------\n",
      "你的【\"综合运势\"】详细说明： \n",
      "\n",
      "整体运势还不赖，相比起给别人眼色，你更应该将注意力放在自己身上。尤其是对竞争对手你应该努力追赶，做好分内事，而不是总是看着别人行动，或是冒出嫉妒心理。生活方面你需要适度的调整，不能让人牵着鼻子走。<small>星x座x屋</small>\n",
      "---------------------------------\n",
      "你的【\"爱情运势\"】详细说明： \n",
      "\n",
      "单身的或能遇到真心相待之人，不过培养感情还需加把劲。恋爱中的感情还需要升温，要积极表现，努力加点分了。\n",
      "---------------------------------\n",
      "你的【\"事业学业\"】详细说明： \n",
      "\n",
      "工作方面你能够充当领导者的角色，会有很多发挥自己领导才能的机会，简直就是用在刀刃上，容易得到更多人追随。\n",
      "---------------------------------\n",
      "你的【\"财富运势\"】详细说明： \n",
      "\n",
      "正财偏财的进账都非常理想，而且简直就是源源不断进账的节奏，你的进账收入涨幅比较大，手头可支配的资金宽裕。\n",
      "---------------------------------\n",
      "你的【\"健康运势\"】详细说明： \n",
      "\n",
      "早睡早起精神好，建议培养良好的作息习惯，有利于保证一天的精神状态，基本上没有病痛影响，也适合进行健康检查。\n"
     ]
    }
   ],
   "source": [
    "import requests\n",
    "import re\n",
    "\n",
    "# 1.定义一个函数，输入你的出生日期，获取对应的星座\n",
    "def get_constellation(month, date):\n",
    "    dates = (21, 20, 21, 21, 22, 22, 23, 24, 24, 24, 23, 22)\n",
    "    constellations = (\"摩羯座\", \"水瓶座\", \"双鱼座\", \"白羊座\", \n",
    "                      \"金牛座\", \"双子座\", \"巨蟹座\", \"狮子座\", \n",
    "                      \"处女座\", \"天秤座\", \"天蝎座\", \"射手座\", \"摩羯座\")\n",
    "    if date < dates[month-1]:\n",
    "        return constellations[month-1]\n",
    "    else:\n",
    "        return constellations[month]\n",
    "\n",
    "month = int(input(\"请输入你的出生月份：\"))\n",
    "date = int(input(\"请输入你的出生日期：\"))\n",
    "constellation = get_constellation(month,date) \n",
    "print('\\n',f'根据你的出生日期，判断你属于\"{constellation}\"','\\n')\n",
    "\n",
    "# 2. 定义一个字典，根据不同的星座，得到星座对应的英文，用于拼接url\n",
    "dict_ = {\"水瓶座\":\"Aquarius\",\n",
    "         \"双鱼座\":\"Pisces\",\n",
    "         \"白羊座\":\"Aries\",\n",
    "         \"金牛座\":\"Taurus\",\n",
    "         \"双子座\":\"Gemini\",\n",
    "         \"巨蟹座\":\"Cancer\",\n",
    "         \"狮子座\":\"Leo\",\n",
    "         \"处女座\":\"Virgo\",\n",
    "         \"天秤座\":\"Libra\",\n",
    "         \"天蝎座\":\"Scorpio\",\n",
    "         \"射手座\":\"Sagittarius\",\n",
    "         \"摩羯座\":\"Capricorn\"}\n",
    "\n",
    "url = f\"https://www.xzw.com/fortune/{dict_[constellation]}/\"\n",
    "\n",
    "# 3.获取星座运势\n",
    "response = requests.get(url)\n",
    "response.encoding = \"utf-8\"\n",
    "content = response.text\n",
    "\n",
    "print(f'下面是\"{constellation}\"今日运势总览：',\"\\n\")\n",
    "lis = re.findall('<em style=\" width:(.*?)px;\">',content)\n",
    "comprehensive_fortune,love_fortune,career_fortune,wealth_fortune = [str(int(int(i)/16))+\"星\" for i in lis]\n",
    "\n",
    "health_index = re.findall('健康指数：</label>(.*?)<',content,re.S)[0]\n",
    "\n",
    "negotiation_Index = re.findall('商谈指数：</label>(.*?)<',content,re.S)[0]\n",
    "\n",
    "lucky_color = re.findall('幸运颜色：</label>(.*?)<',content,re.S)[0]\n",
    "\n",
    "lucky_num = re.findall('幸运数字：</label>(.*?)<',content,re.S)[0]\n",
    "\n",
    "match_constellation = re.findall('速配星座：</label>(.*?)<',content,re.S)[0]\n",
    "\n",
    "short_comment = re.findall('短评：</label>(.*?)<',content,re.S)[0]\n",
    "\n",
    "print(\"综合运势:\",comprehensive_fortune,\"爱情运势:\",love_fortune,\"事业运势:\",career_fortune,\"健康运势:\",wealth_fortune,\"\\n\")\n",
    "print(\"健康指数：\",health_index,\"\\n\")\n",
    "print(\"商谈指数：\",negotiation_Index,\"\\n\")\n",
    "print(\"幸运颜色：\",lucky_color,\"\\n\")\n",
    "print(\"幸运数字：\",lucky_num,\"\\n\")\n",
    "print(\"速配星座：\",match_constellation,\"\\n\")\n",
    "print(\"短评：\",short_comment,\"\\n\")\n",
    "print(\"---------------------------------\")\n",
    "\n",
    "print('你的【\"综合运势\"】详细说明：','\\n')\n",
    "detail_comprehensive_fortune = re.findall('综合运势</strong><span>(.*?)</span>',content,re.S)[0]\n",
    "print(detail_comprehensive_fortune)\n",
    "\n",
    "print(\"---------------------------------\")\n",
    "\n",
    "print('你的【\"爱情运势\"】详细说明：','\\n')\n",
    "detail_love_fortune = re.findall('爱情运势</strong><span>(.*?)</span>',content,re.S)[0]\n",
    "print(detail_love_fortune)\n",
    "\n",
    "print(\"---------------------------------\")\n",
    "\n",
    "print('你的【\"事业学业\"】详细说明：','\\n')\n",
    "detail_career = re.findall('事业学业</strong><span>(.*?)</span>',content,re.S)[0]\n",
    "print(detail_career)\n",
    "\n",
    "print(\"---------------------------------\")\n",
    "\n",
    "print('你的【\"财富运势\"】详细说明：','\\n')\n",
    "detail_wealth = re.findall('财富运势</strong><span>(.*?)</span>',content,re.S)[0]\n",
    "print(detail_wealth)\n",
    "\n",
    "print(\"---------------------------------\")\n",
    "\n",
    "print('你的【\"健康运势\"】详细说明：','\\n')\n",
    "detail_wealth_fortune = re.findall('健康运势</strong><span>(.*?)</span>',content,re.S)[0]\n",
    "print(detail_wealth_fortune)"
   ]
  },
  {
   "cell_type": "code",
   "execution_count": null,
   "metadata": {},
   "outputs": [],
   "source": []
  },
  {
   "cell_type": "code",
   "execution_count": null,
   "metadata": {},
   "outputs": [],
   "source": []
  },
  {
   "cell_type": "code",
   "execution_count": null,
   "metadata": {},
   "outputs": [],
   "source": []
  },
  {
   "cell_type": "code",
   "execution_count": null,
   "metadata": {},
   "outputs": [],
   "source": []
  },
  {
   "cell_type": "code",
   "execution_count": null,
   "metadata": {},
   "outputs": [],
   "source": []
  }
 ],
 "metadata": {
  "kernelspec": {
   "display_name": "Python 3",
   "language": "python",
   "name": "python3"
  },
  "language_info": {
   "codemirror_mode": {
    "name": "ipython",
    "version": 3
   },
   "file_extension": ".py",
   "mimetype": "text/x-python",
   "name": "python",
   "nbconvert_exporter": "python",
   "pygments_lexer": "ipython3",
   "version": "3.7.0"
  }
 },
 "nbformat": 4,
 "nbformat_minor": 2
}
